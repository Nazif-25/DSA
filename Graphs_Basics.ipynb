{
  "nbformat": 4,
  "nbformat_minor": 0,
  "metadata": {
    "colab": {
      "provenance": [],
      "authorship_tag": "ABX9TyOPHAAWzt+wIOUNELEpQ5gp",
      "include_colab_link": true
    },
    "kernelspec": {
      "name": "python3",
      "display_name": "Python 3"
    },
    "language_info": {
      "name": "python"
    }
  },
  "cells": [
    {
      "cell_type": "markdown",
      "metadata": {
        "id": "view-in-github",
        "colab_type": "text"
      },
      "source": [
        "<a href=\"https://colab.research.google.com/github/Nazif-25/DSA/blob/main/Graphs_Basics.ipynb\" target=\"_parent\"><img src=\"https://colab.research.google.com/assets/colab-badge.svg\" alt=\"Open In Colab\"/></a>"
      ]
    },
    {
      "cell_type": "code",
      "source": [
        "import numpy as np"
      ],
      "metadata": {
        "id": "4Yj6XUouu4Vn"
      },
      "execution_count": null,
      "outputs": []
    },
    {
      "cell_type": "markdown",
      "source": [
        "#Shortest path with bfs on undirected graph"
      ],
      "metadata": {
        "id": "dPZTySpBd5Eh"
      }
    },
    {
      "cell_type": "code",
      "source": [
        "from collections import deque\n",
        "\n",
        "def bfs_shortest_distances(graph, start, n):\n",
        "    # Initialize distances with \"infinity\"\n",
        "    INF = float('inf')\n",
        "    distance = [INF] * (n + 1)  # 1-based indexing\n",
        "\n",
        "    # Set the start node's distance to 0\n",
        "    distance[start] = 0\n",
        "    queue = deque([start])\n",
        "\n",
        "    while queue:\n",
        "        current = queue.popleft()\n",
        "\n",
        "        for neighbor in graph[current]:\n",
        "            if distance[neighbor] == INF:\n",
        "                distance[neighbor] = distance[current] + 1\n",
        "                queue.append(neighbor)\n",
        "\n",
        "    return distance\n",
        "# Graph from earlier (8 nodes, 1-based indexing)\n",
        "graph = {\n",
        "    0: [1,3],\n",
        "    1: [0,2,3],\n",
        "    2: [1, 6],\n",
        "    3: [0,4],\n",
        "    4: [3,5],\n",
        "    5: [4,6],\n",
        "    6: [2,5, 7,8],\n",
        "    7: [6, 8],\n",
        "    8: [6, 7]\n",
        "}\n",
        "\n",
        "n = 8  # Total number of nodes\n",
        "start_node = 0\n",
        "\n",
        "distances = bfs_shortest_distances(graph, start_node, n)\n",
        "print(distances)\n",
        "# Print distances from node 1 to all others\n",
        "for i in range(1, n + 1):\n",
        "    if distances[i] == float('inf'):\n",
        "        print(f\"Node {i} is unreachable from node {start_node}\")\n",
        "    else:\n",
        "        print(f\"Shortest distance from node {start_node} to node {i} is {distances[i]}\")\n"
      ],
      "metadata": {
        "colab": {
          "base_uri": "https://localhost:8080/"
        },
        "id": "2L9jeVYYd41e",
        "outputId": "6391c71d-ffa1-41eb-b655-8045582638cf"
      },
      "execution_count": 8,
      "outputs": [
        {
          "output_type": "stream",
          "name": "stdout",
          "text": [
            "[0, 1, 2, 1, 2, 3, 3, 4, 4]\n",
            "Shortest distance from node 0 to node 1 is 1\n",
            "Shortest distance from node 0 to node 2 is 2\n",
            "Shortest distance from node 0 to node 3 is 1\n",
            "Shortest distance from node 0 to node 4 is 2\n",
            "Shortest distance from node 0 to node 5 is 3\n",
            "Shortest distance from node 0 to node 6 is 3\n",
            "Shortest distance from node 0 to node 7 is 4\n",
            "Shortest distance from node 0 to node 8 is 4\n"
          ]
        }
      ]
    },
    {
      "cell_type": "code",
      "source": [
        "from collections import deque\n",
        "\n",
        "def bfs_longest_distances(graph, start, n):\n",
        "    # Initialize distances with -infinity\n",
        "    NEG_INF = float('-inf')\n",
        "    distance = [NEG_INF] * (n + 1)\n",
        "    distance[start] = 0\n",
        "\n",
        "    queue = deque([start])\n",
        "\n",
        "    while queue:\n",
        "        current = queue.popleft()\n",
        "        for neighbor in graph[current]:\n",
        "            if distance[neighbor] == NEG_INF:\n",
        "                distance[neighbor] = distance[current] + 1\n",
        "                queue.append(neighbor)\n",
        "\n",
        "    return distance\n",
        "graph = {\n",
        "    0: [1,3],\n",
        "    1: [0,2,3],\n",
        "    2: [1, 6],\n",
        "    3: [0,4],\n",
        "    4: [3,5],\n",
        "    5: [4,6],\n",
        "    6: [2,5, 7,8],\n",
        "    7: [6, 8],\n",
        "    8: [6, 7]\n",
        "}\n",
        "# print(bfs_longest_distances(graph, 0, 8)) INCORRECT"
      ],
      "metadata": {
        "colab": {
          "base_uri": "https://localhost:8080/"
        },
        "id": "UPn5TLA0g6L9",
        "outputId": "0b548082-7acf-455f-ab31-41c23deec9ac"
      },
      "execution_count": 7,
      "outputs": [
        {
          "output_type": "stream",
          "name": "stdout",
          "text": [
            "[0, 1, 2, 1, 2, 3, 3, 4, 4]\n"
          ]
        }
      ]
    },
    {
      "cell_type": "code",
      "source": [
        "from collections import deque\n",
        "\n",
        "def bfs_farthest_node(graph, start, n):\n",
        "    visited = [False] * (n + 1)\n",
        "    distance = [0] * (n + 1)\n",
        "    queue = deque([start])\n",
        "    visited[start] = True\n",
        "\n",
        "    farthest_node = start\n",
        "\n",
        "    while queue:\n",
        "        current = queue.popleft()\n",
        "\n",
        "        for neighbor in graph[current]:\n",
        "            if not visited[neighbor]:\n",
        "                visited[neighbor] = True\n",
        "                distance[neighbor] = distance[current] + 1\n",
        "                queue.append(neighbor)\n",
        "                if distance[neighbor] > distance[farthest_node]:\n",
        "                    farthest_node = neighbor\n",
        "\n",
        "    return farthest_node, distance[farthest_node], distance\n",
        "graph = {\n",
        "    0: [1,3],\n",
        "    1: [0,2,3],\n",
        "    2: [1, 6],\n",
        "    3: [0,4],\n",
        "    4: [3,5],\n",
        "    5: [4,6],\n",
        "    6: [2,5, 7,8],\n",
        "    7: [6, 8],\n",
        "    8: [6, 7]\n",
        "}\n",
        "farthest_node, longest_path , distance= bfs_farthest_node(graph, 0, 8)\n",
        "print(farthest_node, longest_path)\n",
        "print(distance)\n"
      ],
      "metadata": {
        "colab": {
          "base_uri": "https://localhost:8080/"
        },
        "id": "NcYZVf-zgCVl",
        "outputId": "2285b2d7-ea8b-4dde-d9ea-8454233b03a8"
      },
      "execution_count": 9,
      "outputs": [
        {
          "output_type": "stream",
          "name": "stdout",
          "text": [
            "7 4\n",
            "[0, 1, 2, 1, 2, 3, 3, 4, 4]\n"
          ]
        }
      ]
    },
    {
      "cell_type": "markdown",
      "source": [
        "#Bipartite graph"
      ],
      "metadata": {
        "id": "olopfjjhODSb"
      }
    },
    {
      "cell_type": "code",
      "source": [
        "from collections import deque\n",
        "\n",
        "def is_bipartite(graph, n):\n",
        "    # -1 means unvisited, 0 and 1 are the two colors\n",
        "    color = [-1] * (n + 1)\n",
        "\n",
        "    for start in range(1, n + 1):\n",
        "        if color[start] == -1:\n",
        "            queue = deque()\n",
        "            queue.append(start)\n",
        "            color[start] = 0\n",
        "\n",
        "            while queue:\n",
        "                node = queue.popleft()\n",
        "                for neighbor in graph[node]:\n",
        "                    if color[neighbor] == -1:\n",
        "                        color[neighbor] = 1 - color[node]\n",
        "                        queue.append(neighbor)\n",
        "                    elif color[neighbor] == color[node]:\n",
        "                        return False  # Same color neighbor → not bipartite\n",
        "    return True\n",
        "\n",
        "# -------------------------\n",
        "# Graph input (from the map)\n",
        "graph = {\n",
        "    1: [2],\n",
        "    2: [1, 5, 6],\n",
        "    3: [5],\n",
        "    4: [5],\n",
        "    5: [2, 3, 4, 8],\n",
        "    6: [2, 7],\n",
        "    7: [ 6, 8],\n",
        "    8: [5, 7]\n",
        "}\n",
        "\n",
        "n = 8  # Number of nodes/divisions\n",
        "\n",
        "# Check if the graph is bipartite\n",
        "if is_bipartite(graph, n):\n",
        "    print(\"The graph is bipartite. A valid division into Group A and B is possible.\")\n",
        "else:\n",
        "    print(\"The graph is NOT bipartite. Such a division is NOT possible.\")\n"
      ],
      "metadata": {
        "colab": {
          "base_uri": "https://localhost:8080/"
        },
        "id": "msttVQmVOC4i",
        "outputId": "2a3ba024-5631-4899-80a5-4db3d54f04e9"
      },
      "execution_count": null,
      "outputs": [
        {
          "output_type": "stream",
          "name": "stdout",
          "text": [
            "The graph is NOT bipartite. Such a division is NOT possible.\n"
          ]
        }
      ]
    },
    {
      "cell_type": "markdown",
      "source": [
        "#adjacency matrix"
      ],
      "metadata": {
        "id": "bNiGAILhrNpP"
      }
    },
    {
      "cell_type": "code",
      "execution_count": null,
      "metadata": {
        "colab": {
          "base_uri": "https://localhost:8080/"
        },
        "id": "HTk2eKzAqz5R",
        "outputId": "b877d0e7-71c9-4cfc-8bf1-9638153a48f9"
      },
      "outputs": [
        {
          "output_type": "stream",
          "name": "stdout",
          "text": [
            "[[ 0  5 10  7]\n",
            " [ 2  0 14 13]\n",
            " [ 8  4  0  9]\n",
            " [ 3  6  1  0]]\n"
          ]
        }
      ],
      "source": [
        "# adjacency matrix\n",
        "def create_matrix():\n",
        "    # here graph is a matrix\n",
        "    graph = np.zeros((4,4), dtype = int)\n",
        "    # matrix[row][col] = edge_weight\n",
        "    graph[0][1] = 5\n",
        "    graph[0][2] = 10\n",
        "    graph[0][3] = 7\n",
        "    graph[1][0] = 2\n",
        "    graph[1][2] = 14\n",
        "    graph[1][3] = 13\n",
        "    graph[2][0] = 8\n",
        "    graph[2][1] = 4\n",
        "    graph[2][3] = 9\n",
        "    graph[3][0] = 3\n",
        "    graph[3][1] = 6\n",
        "    graph[3][2] = 1\n",
        "\n",
        "    return graph\n",
        "\n",
        "graph = create_matrix()\n",
        "print(graph)"
      ]
    },
    {
      "cell_type": "code",
      "source": [
        "def twoDlistTraversal(graph):\n",
        "    rows = len(graph)\n",
        "    cols = len(graph[0])\n",
        "    result = []\n",
        "    for r in range(rows):\n",
        "        for c in range(cols):\n",
        "            if graph[r][c] != 0:\n",
        "                result.append(f\"{graph[r][c]} -> \")\n",
        "    print(\"\".join(result))\n",
        "twoDlistTraversal(graph)"
      ],
      "metadata": {
        "colab": {
          "base_uri": "https://localhost:8080/"
        },
        "id": "C26DusCut12M",
        "outputId": "f63d50de-20d9-4eca-84ae-1ef1dd9c7e6f"
      },
      "execution_count": null,
      "outputs": [
        {
          "output_type": "stream",
          "name": "stdout",
          "text": [
            "5 -> 10 -> 7 -> 2 -> 14 -> 13 -> 8 -> 4 -> 9 -> 3 -> 6 -> 1 -> \n"
          ]
        }
      ]
    },
    {
      "cell_type": "code",
      "source": [
        "def find_net_spend(graph):\n",
        "    rows = len(graph)\n",
        "    cols = len(graph[0])\n",
        "    arr = np.array([0]*4)\n",
        "    arr2 = np.array([0]*4)\n",
        "\n",
        "    index_of_arr = 0\n",
        "    for r in range(rows):\n",
        "        rows_sum = 0\n",
        "        for c in range(cols):\n",
        "            rows_sum += graph[r][c]\n",
        "        arr[index_of_arr] = rows_sum\n",
        "        index_of_arr += 1\n",
        "\n",
        "    index_of_arr2 = 0\n",
        "    for c in range(cols):\n",
        "        cols_sum = 0\n",
        "        for r in range(rows):\n",
        "            cols_sum += graph[r][c]\n",
        "        arr2[index_of_arr2] = cols_sum\n",
        "        index_of_arr2 += 1\n",
        "\n",
        "    arr3 = np.array([0]*4)\n",
        "    for i in range(len(arr)):\n",
        "        net_spend = arr[i] - arr2[i]\n",
        "        arr3[i] = net_spend\n",
        "    return arr3\n",
        "\n",
        "print(find_net_spend(graph))"
      ],
      "metadata": {
        "colab": {
          "base_uri": "https://localhost:8080/"
        },
        "id": "Dx6FNLYsvLZe",
        "outputId": "461ebea0-b14b-43b1-820b-8e72f09206bc"
      },
      "execution_count": null,
      "outputs": [
        {
          "output_type": "stream",
          "name": "stdout",
          "text": [
            "[  9  14  -4 -19]\n"
          ]
        }
      ]
    },
    {
      "cell_type": "code",
      "source": [
        "cols_sum = graph.sum(axis=0)\n",
        "rows_sum = graph.sum(axis=1)\n",
        "net_spend = rows_sum - cols_sum\n",
        "print(net_spend)\n"
      ],
      "metadata": {
        "colab": {
          "base_uri": "https://localhost:8080/"
        },
        "id": "Fd90yYr7y-ct",
        "outputId": "dd045fed-16c3-4613-c74a-dcd1cdb8bbee"
      },
      "execution_count": null,
      "outputs": [
        {
          "output_type": "stream",
          "name": "stdout",
          "text": [
            "[  9  14  -4 -19]\n"
          ]
        }
      ]
    },
    {
      "cell_type": "markdown",
      "source": [
        "# Better approach"
      ],
      "metadata": {
        "id": "DDLrKdfbwMXw"
      }
    },
    {
      "cell_type": "code",
      "source": [
        "def reverse_edge(graph):\n",
        "    size = len(graph.matrix)\n",
        "    original_matrix = graph.matrix.copy()\n",
        "    # here we are flattening the 2D matrix into 1D list\n",
        "    # in the 2D matrix there are 6 by 6 elements therefore 36 elements hence size*size\n",
        "    for i in range(size * size):\n",
        "        # floor dividing i by size gives row number\n",
        "        # modulus division of i by size gives column number\n",
        "        r = i // size\n",
        "        c = i % size\n",
        "        if r%2==1:\n",
        "            if original_matrix[r][c] == 1:\n",
        "                graph.matrix[c][r] = 1\n",
        "                graph.matrix[r][c] = 0\n",
        "\n",
        "    return graph\n",
        "graph = reverse_edge(graph)\n",
        "graph.print_graph()"
      ],
      "metadata": {
        "id": "qKRiGuzsUs9o"
      },
      "execution_count": null,
      "outputs": []
    },
    {
      "cell_type": "code",
      "source": [
        "class Node:\n",
        "    def __init__(self, data):\n",
        "        self.data = data\n",
        "\n",
        "class Graph:\n",
        "    def __init__(self, size):\n",
        "        self.nodes_list = []\n",
        "        self.matrix = np.zeros((size,size), dtype = int)\n",
        "\n",
        "    def add_node(self, elem):\n",
        "        node = Node(elem)\n",
        "        self.nodes_list += [node]\n",
        "\n",
        "    def add_edge(self, src, dst):\n",
        "        self.matrix[src][dst] = 1\n",
        "\n",
        "    def check_edge(self, src, dst):\n",
        "        if self.matrix[src][dst] == 1:\n",
        "            return True\n",
        "        return False\n",
        "\n",
        "    def print_graph(self):\n",
        "        rows = len(self.matrix)\n",
        "        cols = len(self.matrix[0])\n",
        "        print(\" \", end=\" \")\n",
        "\n",
        "        for node in self.nodes_list:\n",
        "            print(node.data, end=\" \")\n",
        "        print()\n",
        "\n",
        "        for r in range(rows):\n",
        "            print(self.nodes_list[r].data, end=\" \")\n",
        "            for c in range(cols):\n",
        "                print(self.matrix[r][c], end=\" \")\n",
        "            print()\n"
      ],
      "metadata": {
        "id": "Vj4QJi15z0P_"
      },
      "execution_count": null,
      "outputs": []
    },
    {
      "cell_type": "code",
      "source": [
        "graph = Graph(5)\n",
        "graph.add_node(\"A\")\n",
        "graph.add_node(\"B\")\n",
        "graph.add_node(\"C\")\n",
        "graph.add_node(\"D\")\n",
        "graph.add_node(\"E\")\n",
        "graph.add_edge(0, 1)\n",
        "graph.add_edge(1, 2)\n",
        "graph.add_edge(2, 3)\n",
        "graph.add_edge(4, 0)\n",
        "\n",
        "graph.print_graph()\n",
        "\n",
        "print(graph.check_edge(0,1))\n",
        "print(len(graph.nodes_list))"
      ],
      "metadata": {
        "colab": {
          "base_uri": "https://localhost:8080/"
        },
        "id": "tnm7HFPf1A8u",
        "outputId": "6879d326-f84f-4a5f-a04a-68f9f49df7a4"
      },
      "execution_count": null,
      "outputs": [
        {
          "output_type": "stream",
          "name": "stdout",
          "text": [
            "  A B C D E \n",
            "A 0 1 0 0 0 \n",
            "B 0 0 1 0 0 \n",
            "C 0 0 0 1 0 \n",
            "D 0 0 0 0 0 \n",
            "E 1 0 0 0 0 \n",
            "True\n",
            "5\n"
          ]
        }
      ]
    },
    {
      "cell_type": "code",
      "source": [
        "# here graph is an object of Graph (class)\n",
        "def BFS(graph, start):\n",
        "    total_vertex = len(graph.nodes_list)\n",
        "    visited = np.array([False]*total_vertex)\n",
        "    queue = Queue()\n",
        "    visited[start] = True\n",
        "    queue.enqueue(start)\n",
        "    while queue.is_empty() == False:\n",
        "        u = queue.dequeue()\n",
        "        print(u)\n",
        "        for v in range(total_vertex):\n",
        "            if graph.matrix[u][v] != 0 and visited[v] == False:\n",
        "                visited[v] = True\n",
        "                queue.enqueue(v)\n",
        "BFS(graph,2)"
      ],
      "metadata": {
        "colab": {
          "base_uri": "https://localhost:8080/"
        },
        "id": "9jha__4Vx0yB",
        "outputId": "02ab023d-77e9-47a6-f50c-77c8cbd8fbb9"
      },
      "execution_count": null,
      "outputs": [
        {
          "output_type": "stream",
          "name": "stdout",
          "text": [
            "2\n",
            "3\n"
          ]
        }
      ]
    },
    {
      "cell_type": "code",
      "source": [
        "# here graph is an object of Graph (class)\n",
        "def DFS(graph, start):\n",
        "    total_vertex = len(graph.nodes_list)\n",
        "    visited = np.array([False]*total_vertex)\n",
        "    stack = Stack()\n",
        "    visited[start] = True\n",
        "    stack.push(start)\n",
        "    while stack.is_empty() == False:\n",
        "        u = stack.pop()\n",
        "        print(u)\n",
        "        for v in range(total_vertex):\n",
        "            if graph.matrix[u][v] != 0 and visited[v] == False:\n",
        "                visited[v] = True\n",
        "                stack.push(v)\n",
        "DFS(graph, 0)\n"
      ],
      "metadata": {
        "colab": {
          "base_uri": "https://localhost:8080/"
        },
        "id": "QVBKhZhN02tI",
        "outputId": "fb2101f8-4317-4163-97f6-cba03c915aca"
      },
      "execution_count": null,
      "outputs": [
        {
          "output_type": "stream",
          "name": "stdout",
          "text": [
            "0\n",
            "1\n",
            "2\n",
            "3\n"
          ]
        }
      ]
    },
    {
      "cell_type": "markdown",
      "source": [
        "#Stack"
      ],
      "metadata": {
        "id": "H0fmUMyM115a"
      }
    },
    {
      "cell_type": "code",
      "source": [
        "class Node:\n",
        "    def __init__(self, elem):\n",
        "        self.elem = elem\n",
        "        self.next = None\n",
        "class Stack:\n",
        "    def __init__(self):\n",
        "        self.top = None\n",
        "\n",
        "    def push(self, elem):\n",
        "        new_node = Node(elem)\n",
        "        new_node.next = self.top\n",
        "        self.top = new_node\n",
        "\n",
        "    def pop(self):\n",
        "        if self.is_empty():\n",
        "            raise IndexError(\"Stack is empty\")\n",
        "        popped_elem = self.top.elem\n",
        "        self.top = self.top.next\n",
        "        return popped_elem\n",
        "\n",
        "    def peek(self):\n",
        "        if self.is_empty():\n",
        "            raise IndexError(\"Stack is empty\")\n",
        "        return self.top.elem\n",
        "\n",
        "    def is_empty(self):\n",
        "        return self.top is None"
      ],
      "metadata": {
        "id": "1_4lxrG81wGZ"
      },
      "execution_count": null,
      "outputs": []
    },
    {
      "cell_type": "markdown",
      "source": [
        "# Cycle detection in directed graph using DFS"
      ],
      "metadata": {
        "id": "ZI_swi_OkO8N"
      }
    },
    {
      "cell_type": "code",
      "source": [
        "class Node:\n",
        "    def __init__(self, elem):\n",
        "        self.elem = elem\n",
        "        self.next = None\n",
        "class Stack:\n",
        "    def __init__(self):\n",
        "        self.top = None\n",
        "\n",
        "    def push(self, elem):\n",
        "        new_node = Node(elem)\n",
        "        new_node.next = self.top\n",
        "        self.top = new_node\n",
        "\n",
        "    def pop(self):\n",
        "        if self.is_empty():\n",
        "            raise IndexError(\"Stack is empty\")\n",
        "        popped_elem = self.top.elem\n",
        "        self.top = self.top.next\n",
        "        return popped_elem\n",
        "\n",
        "    def peek(self):\n",
        "        if self.is_empty():\n",
        "            raise IndexError(\"Stack is empty\")\n",
        "        return self.top.elem\n",
        "\n",
        "    def is_empty(self):\n",
        "        return self.top is None\n",
        "# class Node:\n",
        "#     def __init__(self, data):\n",
        "#         self.data = data\n",
        "\n",
        "class Graph:\n",
        "    def __init__(self, size):\n",
        "        self.nodes_list = []\n",
        "        self.matrix = np.zeros((size,size), dtype = int)\n",
        "\n",
        "    def add_node(self, elem):\n",
        "        node = Node(elem)\n",
        "        self.nodes_list += [node]\n",
        "\n",
        "    def add_edge(self, src, dst):\n",
        "        self.matrix[src][dst] = 1\n",
        "\n",
        "    def check_edge(self, src, dst):\n",
        "        if self.matrix[src][dst] == 1:\n",
        "            return True\n",
        "        return False\n",
        "\n",
        "    def print_graph(self):\n",
        "        rows = len(self.matrix)\n",
        "        cols = len(self.matrix[0])\n",
        "        print(\" \", end=\" \")\n",
        "\n",
        "        for node in self.nodes_list:\n",
        "            print(node.elem, end=\" \")\n",
        "        print()\n",
        "\n",
        "        for r in range(rows):\n",
        "            print(self.nodes_list[r].elem, end=\" \")\n",
        "            for c in range(cols):\n",
        "                print(self.matrix[r][c], end=\" \")\n",
        "            print()\n",
        "\n",
        "def detect_cycle(graph, start):\n",
        "    total_vertex = len(graph.nodes_list)\n",
        "    visited = np.array([False]*total_vertex)\n",
        "    flag = np.array([-1]*total_vertex)\n",
        "    stack = Stack()\n",
        "    visited[start] = True\n",
        "    stack.push(start)\n",
        "    flag[start] = 0\n",
        "    while stack.is_empty() == False:\n",
        "        u = stack.pop()\n",
        "        print(u)\n",
        "        for v in range(total_vertex):\n",
        "            if graph.matrix[u][v]!=0 and visited[v] == False:\n",
        "                    visited[v] = True\n",
        "                    stack.push(v)\n",
        "                    flag[v] = 0\n",
        "        if 0 in flag:\n",
        "            print(flag)\n",
        "            return True\n",
        "    return False\n",
        "graph = Graph(5)\n",
        "graph.add_node(\"A\")\n",
        "graph.add_node(\"B\")\n",
        "graph.add_node(\"C\")\n",
        "graph.add_node(\"D\")\n",
        "graph.add_node(\"E\")\n",
        "graph.add_edge(0, 1)\n",
        "graph.add_edge(0, 2)\n",
        "graph.add_edge(1, 2)\n",
        "graph.add_edge(1, 3)\n",
        "graph.add_edge(3, 4)\n",
        "# graph.add_edge(4, 1)\n",
        "\n",
        "graph.print_graph()\n",
        "\n",
        "detect_cycle(graph, 0)"
      ],
      "metadata": {
        "colab": {
          "base_uri": "https://localhost:8080/"
        },
        "id": "iwe9rVx2m1uW",
        "outputId": "6a997851-a301-4a85-ae11-0334f59da0ba"
      },
      "execution_count": null,
      "outputs": [
        {
          "output_type": "stream",
          "name": "stdout",
          "text": [
            "  A B C D E \n",
            "A 0 1 1 0 0 \n",
            "B 0 0 1 1 0 \n",
            "C 0 0 0 0 0 \n",
            "D 0 0 0 0 1 \n",
            "E 0 0 0 0 0 \n",
            "0\n",
            "[ 0  0  0 -1 -1]\n"
          ]
        },
        {
          "output_type": "execute_result",
          "data": {
            "text/plain": [
              "True"
            ]
          },
          "metadata": {},
          "execution_count": 39
        }
      ]
    },
    {
      "cell_type": "markdown",
      "source": [
        "# Queue"
      ],
      "metadata": {
        "id": "ayn36JeJrwKo"
      }
    },
    {
      "cell_type": "code",
      "source": [
        "import numpy as np"
      ],
      "metadata": {
        "id": "dib7u316XyQF"
      },
      "execution_count": null,
      "outputs": []
    },
    {
      "cell_type": "code",
      "source": [
        "class Node:\n",
        "    def __init__(self, elem):\n",
        "        self.elem = elem\n",
        "        self.next = None\n",
        "\n",
        "class Graph:\n",
        "    def __init__(self, size):\n",
        "        self.nodes_list = []\n",
        "        self.matrix = np.zeros((size,size), dtype = int)\n",
        "\n",
        "    def add_node(self, elem):\n",
        "        node = Node(elem)\n",
        "        self.nodes_list += [node]\n",
        "\n",
        "    def add_edge(self, src, dst):\n",
        "        self.matrix[src][dst] = 1\n",
        "\n",
        "    def check_edge(self, src, dst):\n",
        "        if self.matrix[src][dst] == 1:\n",
        "            return True\n",
        "        return False\n",
        "\n",
        "    def print_graph(self):\n",
        "        rows = len(self.matrix)\n",
        "        cols = len(self.matrix[0])\n",
        "        print(\" \", end=\" \")\n",
        "\n",
        "        for node in self.nodes_list:\n",
        "            print(node.elem, end=\" \")\n",
        "        print()\n",
        "\n",
        "        for r in range(rows):\n",
        "            print(self.nodes_list[r].elem, end=\" \")\n",
        "            for c in range(cols):\n",
        "                print(self.matrix[r][c], end=\" \")\n",
        "            print()\n",
        "\n",
        "class Queue:\n",
        "    def __init__(self):\n",
        "        self.front = self.rear = None\n",
        "\n",
        "    def enqueue(self, elem):\n",
        "        new_node = Node(elem)\n",
        "        if self.rear is None:\n",
        "            self.front = self.rear = new_node\n",
        "            return\n",
        "        self.rear.next = new_node\n",
        "        self.rear = new_node\n",
        "\n",
        "    def dequeue(self):\n",
        "        if self.is_empty():\n",
        "            raise IndexError(\"Queue is empty\")\n",
        "        removed_elem = self.front.elem\n",
        "        self.front = self.front.next\n",
        "        if self.front is None:\n",
        "            self.rear = None\n",
        "        return removed_elem\n",
        "\n",
        "    def peek(self):\n",
        "        if self.is_empty():\n",
        "            raise IndexError(\"Queue is empty\")\n",
        "        return self.front.elem\n",
        "\n",
        "    def is_empty(self):\n",
        "        return self.front is None\n",
        "\n",
        "def detect_cycle(graph, start):\n",
        "    total_vertex = len(graph.nodes_list)\n",
        "    visited = np.array([False]*total_vertex)\n",
        "    flag = np.array([-1]*total_vertex)\n",
        "    queue = Queue()\n",
        "    visited[start] = True\n",
        "    if flag[start] == -1:\n",
        "        flag[start] = 0\n",
        "        queue.enqueue(start)\n",
        "    while queue.is_empty() == False:\n",
        "        u = queue.dequeue()\n",
        "        print(u)\n",
        "        for v in range(total_vertex):\n",
        "            if graph.matrix[u][v]!=0 and visited[v] == False:\n",
        "                    visited[v] = True\n",
        "                    if flag[v] == 0:\n",
        "                        return True\n",
        "                    if flag[v] == -1:\n",
        "                        flag[v] = 0\n",
        "                        queue.enqueue(v)\n",
        "                    if flag[v] == 1:\n",
        "                        continue\n",
        "\n",
        "    return False\n",
        "graph = Graph(5)\n",
        "graph.add_node(\"A\")\n",
        "graph.add_node(\"B\")\n",
        "graph.add_node(\"C\")\n",
        "graph.add_node(\"D\")\n",
        "graph.add_node(\"E\")\n",
        "graph.add_edge(0, 1)\n",
        "graph.add_edge(1, 0)\n",
        "graph.add_edge(1, 2)\n",
        "graph.add_edge(2, 1)\n",
        "graph.add_edge(2, 3)\n",
        "graph.add_edge(2, 4)\n",
        "graph.add_edge(3, 2)\n",
        "graph.add_edge(3, 4)\n",
        "graph.add_edge(4, 2)\n",
        "graph.add_edge(4, 3)\n",
        "\n",
        "\n",
        "graph.print_graph()\n",
        "\n",
        "detect_cycle(graph, 0)"
      ],
      "metadata": {
        "id": "FuKbx7xbrsu5",
        "colab": {
          "base_uri": "https://localhost:8080/"
        },
        "outputId": "5b931e63-9183-407c-9e7a-235cde558401"
      },
      "execution_count": null,
      "outputs": [
        {
          "output_type": "stream",
          "name": "stdout",
          "text": [
            "  A B C D E \n",
            "A 0 1 0 0 0 \n",
            "B 1 0 1 0 0 \n",
            "C 0 1 0 1 1 \n",
            "D 0 0 1 0 1 \n",
            "E 0 0 1 1 0 \n",
            "0\n",
            "1\n",
            "2\n",
            "3\n",
            "4\n"
          ]
        },
        {
          "output_type": "execute_result",
          "data": {
            "text/plain": [
              "False"
            ]
          },
          "metadata": {},
          "execution_count": 6
        }
      ]
    },
    {
      "cell_type": "code",
      "source": [
        "import numpy as np\n",
        "from collections import deque\n",
        "\n",
        "class Node:\n",
        "    def __init__(self, elem):\n",
        "        self.elem = elem\n",
        "        self.next = None\n",
        "\n",
        "class Graph:\n",
        "    def __init__(self, size):\n",
        "        self.nodes_list = []\n",
        "        self.matrix = np.zeros((size, size), dtype=int)\n",
        "\n",
        "    def add_node(self, elem):\n",
        "        node = Node(elem)\n",
        "        self.nodes_list.append(node)\n",
        "\n",
        "    def add_edge(self, src, dst):\n",
        "        # For undirected graph, add both directions\n",
        "        self.matrix[src][dst] = 1\n",
        "        self.matrix[dst][src] = 1\n",
        "\n",
        "    def check_edge(self, src, dst):\n",
        "        return self.matrix[src][dst] == 1\n",
        "\n",
        "    def print_graph(self):\n",
        "        print(\" \", end=\" \")\n",
        "        for node in self.nodes_list:\n",
        "            print(node.elem, end=\" \")\n",
        "        print()\n",
        "\n",
        "        for r in range(len(self.matrix)):\n",
        "            print(self.nodes_list[r].elem, end=\" \")\n",
        "            for c in range(len(self.matrix[0])):\n",
        "                print(self.matrix[r][c], end=\" \")\n",
        "            print()\n",
        "\n",
        "def detect_cycle(graph, start):\n",
        "    total_vertex = len(graph.nodes_list)\n",
        "    visited = [False] * total_vertex\n",
        "    parent = [-1] * total_vertex\n",
        "    queue =Queue()\n",
        "\n",
        "    visited[start] = True\n",
        "    queue.enqueue(start)\n",
        "\n",
        "    while queue:\n",
        "        u = queue.dequeue()\n",
        "        for v in range(total_vertex):\n",
        "            if graph.matrix[u][v] == 1:\n",
        "                if not visited[v]:\n",
        "                    visited[v] = True\n",
        "                    parent[v] = u\n",
        "                    queue.enqueue(v)\n",
        "                elif parent[u] != v:\n",
        "                    # If the neighbor is visited and not the parent, cycle exists\n",
        "                    return True\n",
        "    return False\n",
        "\n",
        "# Test Case\n",
        "graph = Graph(5)\n",
        "graph.add_node(\"A\")\n",
        "graph.add_node(\"B\")\n",
        "graph.add_node(\"C\")\n",
        "graph.add_node(\"D\")\n",
        "graph.add_node(\"E\")\n",
        "graph.add_edge(0, 1)  # A - B\n",
        "graph.add_edge(1, 0)  # B - A\n",
        "graph.add_edge(1, 2)  # B - C\n",
        "graph.add_edge(2, 1)  # C - B\n",
        "graph.add_edge(2, 3)  # C - D\n",
        "graph.add_edge(2, 4)  # C - E\n",
        "graph.add_edge(3, 2)  # D - C\n",
        "graph.add_edge(3, 4)  # D - E\n",
        "# graph.add_edge(4, 2)  # E - C\n",
        "# graph.add_edge(4, 3)  # E - D\n",
        "\n",
        "graph.print_graph()\n",
        "print(\"Cycle detected:\", detect_cycle(graph, 0))  # Expected: True (since there's a cycle, e.g., B-C-D-E-B)"
      ],
      "metadata": {
        "colab": {
          "base_uri": "https://localhost:8080/"
        },
        "id": "3If5yUzgh5Qs",
        "outputId": "6a03f319-04f2-41a1-b48c-0cf3ed9505de"
      },
      "execution_count": null,
      "outputs": [
        {
          "output_type": "stream",
          "name": "stdout",
          "text": [
            "  A B C D E \n",
            "A 0 1 0 0 0 \n",
            "B 1 0 1 0 0 \n",
            "C 0 1 0 1 1 \n",
            "D 0 0 1 0 1 \n",
            "E 0 0 1 1 0 \n",
            "Cycle detected: True\n"
          ]
        }
      ]
    },
    {
      "cell_type": "markdown",
      "source": [
        "# Breadth First Search (BFS)"
      ],
      "metadata": {
        "id": "qCCLWj8grVc1"
      }
    },
    {
      "cell_type": "code",
      "source": [
        "# adjacency matrix\n",
        "import numpy as np\n",
        "def create_matrix():\n",
        "    # here graph is a matrix\n",
        "    graph = np.zeros((6,6), dtype = int)\n",
        "    # matrix[row][col] = edge_weight\n",
        "    graph[0][5] = 15\n",
        "    graph[1][2] = 44\n",
        "    graph[1][5] = 8\n",
        "    graph[2][4] = 10\n",
        "    graph[2][1] = 44\n",
        "    graph[2][3] = 9\n",
        "    graph[3][2] = 9\n",
        "    graph[3][4] = 7\n",
        "    graph[3][5] = 15\n",
        "    graph[4][2] = 10\n",
        "    graph[4][3] = 7\n",
        "    graph[5][0] = 15\n",
        "    graph[5][1] = 8\n",
        "    graph[4][3] = 7\n",
        "    graph[5][3] = 15\n",
        "    return graph\n",
        "graph = create_matrix()\n",
        "print(graph)"
      ],
      "metadata": {
        "colab": {
          "base_uri": "https://localhost:8080/"
        },
        "id": "VDci_u5vujmo",
        "outputId": "72755842-f47d-4439-bd11-7ae148b4484b"
      },
      "execution_count": null,
      "outputs": [
        {
          "output_type": "stream",
          "name": "stdout",
          "text": [
            "[[ 0  0  0  0  0 15]\n",
            " [ 0  0 44  0  0  8]\n",
            " [ 0 44  0  9 10  0]\n",
            " [ 0  0  9  0  7 15]\n",
            " [ 0  0 10  7  0  0]\n",
            " [15  8  0 15  0  0]]\n"
          ]
        }
      ]
    },
    {
      "cell_type": "code",
      "source": [
        "# here graph is a matrix\n",
        "def BFS(graph, start):\n",
        "    total_vertex = len(graph)\n",
        "    visited = np.array([False]*total_vertex)\n",
        "    queue = Queue()\n",
        "    visited[start] = True\n",
        "    queue.enqueue(start)\n",
        "    while queue.is_empty() == False:\n",
        "        u = queue.dequeue()\n",
        "        print(u)\n",
        "        for v in range(total_vertex):\n",
        "            if graph[u][v] != 0 and visited[v] == False:\n",
        "                visited[v] = True\n",
        "                queue.enqueue(v)\n",
        "BFS(graph,2)"
      ],
      "metadata": {
        "colab": {
          "base_uri": "https://localhost:8080/"
        },
        "id": "KTa5ZMu2rZy1",
        "outputId": "558bcdab-295e-405e-9ac0-3275e930edf5"
      },
      "execution_count": null,
      "outputs": [
        {
          "output_type": "stream",
          "name": "stdout",
          "text": [
            "2\n",
            "1\n",
            "3\n",
            "4\n",
            "5\n",
            "0\n"
          ]
        }
      ]
    },
    {
      "cell_type": "markdown",
      "source": [
        "#Depth First Search (DFS)"
      ],
      "metadata": {
        "id": "TlTIJKZPraLE"
      }
    },
    {
      "cell_type": "code",
      "source": [],
      "metadata": {
        "id": "9fTDdr8xrc-W"
      },
      "execution_count": null,
      "outputs": []
    },
    {
      "cell_type": "markdown",
      "source": [
        "#adjacency list"
      ],
      "metadata": {
        "id": "9wpVOOVDrS9d"
      }
    },
    {
      "cell_type": "markdown",
      "source": [
        "Difference between print_graph() and printGraph() respectively:\n",
        "\n",
        "| Aspect         | print_graph()      | printGraph()                                               |\n",
        "| -------------- | ------------- | -------------------------------------------------------- |\n",
        "| 📄 Readability | Good          | Slightly better (clearer separation of logic + output)   |\n",
        "| 🔄 Flexibility | Less flexible | More flexible for future features                        |\n",
        "| 🖨 Print calls | Many          | Fewer                                                    |\n",
        "| 🚀 Performance | Fine          | Potentially slightly faster with large graphs (less I/O) |\n"
      ],
      "metadata": {
        "id": "HHfDbfD_bktm"
      }
    },
    {
      "cell_type": "code",
      "source": [
        "class Node:\n",
        "    def __init__(self, data):\n",
        "        self.data = data\n",
        "        self.next = None\n",
        "class Graph:\n",
        "    def __init__(self, vertices):\n",
        "        self.V = vertices\n",
        "        self.array = [None]*vertices\n",
        "\n",
        "    def add_edge(self, src, dst):\n",
        "        node = Node(dst)\n",
        "        node.next = self.array[src]\n",
        "        self.array[src] = node\n",
        "\n",
        "        node = Node(src)\n",
        "        node.next = self.array[dst]\n",
        "        self.array[dst] = node\n",
        "\n",
        "    def print_graph(self):\n",
        "        for src in range(self.V):\n",
        "            temp = self.array[src]\n",
        "            print(f\"Adjacency list of {src}\",end=\" \")\n",
        "            while temp:\n",
        "                print(f\"--> {temp.data}\",end=\" \")\n",
        "                temp = temp.next\n",
        "            print()\n",
        "\n",
        "    def printGraph(self):\n",
        "        for src in range(self.V):\n",
        "            connections = []\n",
        "            temp = self.array[src]\n",
        "            while temp:\n",
        "                connections.append(f\"-->{temp.data}\")\n",
        "                temp = temp.next\n",
        "            print(f\"Adjacency list of {src}:{''.join(connections)}\")\n",
        "\n",
        "    def convert_undirected_to_directed(self):\n",
        "        for dst in range(self.V):\n",
        "            temp = self.array[dst]\n",
        "            while temp:\n",
        "                src = temp.data\n",
        "                self.remove_edge(src, dst)\n",
        "                temp = temp.next\n",
        "\n",
        "    def remove_edge(self, src, dst):\n",
        "        prev = None\n",
        "        temp = self.array[src]\n",
        "        while temp:\n",
        "            if temp.data == dst:\n",
        "                if prev:\n",
        "                    prev.next = temp.next\n",
        "                else:\n",
        "                    self.array[src] = temp.next\n",
        "                return\n",
        "            prev = temp\n",
        "            temp = temp.next\n",
        "\n",
        "    def convert_directed_to_undirected(self):\n",
        "        for dst in range(self.V):\n",
        "            temp = self.array[dst]\n",
        "            while temp!=None:\n",
        "                src = temp.data\n",
        "                if not self.edge_exists(src, dst):\n",
        "                    node = Node(dst)\n",
        "                    node.next = self.array[src]\n",
        "                    self.array[src] = node\n",
        "                temp = temp.next\n",
        "\n",
        "    def edge_exists(self, src, dst):\n",
        "        temp = self.array[src]\n",
        "        while temp:\n",
        "            if temp.data == dst:\n",
        "                return True\n",
        "            temp = temp.next\n",
        "        return False"
      ],
      "metadata": {
        "id": "4_Cv2-FYrVG9"
      },
      "execution_count": null,
      "outputs": []
    },
    {
      "cell_type": "code",
      "source": [
        "graph = Graph(5)\n",
        "graph.add_edge(0, 1)\n",
        "graph.add_edge(0, 4)\n",
        "\n",
        "graph.add_edge(1, 2)\n",
        "graph.add_edge(1, 3)\n",
        "graph.add_edge(1, 4)\n",
        "\n",
        "graph.add_edge(2, 3)\n",
        "graph.add_edge(3, 4)\n",
        "\n",
        "graph.print_graph()\n",
        "\n",
        "graph.printGraph()"
      ],
      "metadata": {
        "colab": {
          "base_uri": "https://localhost:8080/"
        },
        "id": "TZzmGa_28wtg",
        "outputId": "f82afd7a-a2d3-4c95-f7a6-4e4780a1d0aa"
      },
      "execution_count": null,
      "outputs": [
        {
          "output_type": "stream",
          "name": "stdout",
          "text": [
            "Adjacency list of 0 --> 4 --> 1 \n",
            "Adjacency list of 1 --> 4 --> 3 --> 2 --> 0 \n",
            "Adjacency list of 2 --> 3 --> 1 \n",
            "Adjacency list of 3 --> 4 --> 2 --> 1 \n",
            "Adjacency list of 4 --> 3 --> 1 --> 0 \n",
            "Adjacency list of 0:-->4-->1\n",
            "Adjacency list of 1:-->4-->3-->2-->0\n",
            "Adjacency list of 2:-->3-->1\n",
            "Adjacency list of 3:-->4-->2-->1\n",
            "Adjacency list of 4:-->3-->1-->0\n"
          ]
        }
      ]
    },
    {
      "cell_type": "code",
      "source": [
        "graph.convert_undirected_to_directed()\n",
        "graph.print_graph()"
      ],
      "metadata": {
        "colab": {
          "base_uri": "https://localhost:8080/"
        },
        "id": "AFxJZCwu9SWD",
        "outputId": "58b46ec8-f3c8-4c16-96df-002561effc30"
      },
      "execution_count": null,
      "outputs": [
        {
          "output_type": "stream",
          "name": "stdout",
          "text": [
            "Adjacency list of 0 --> 4 --> 1 \n",
            "Adjacency list of 1 --> 4 --> 3 --> 2 \n",
            "Adjacency list of 2 --> 3 \n",
            "Adjacency list of 3 --> 4 \n",
            "Adjacency list of 4 \n"
          ]
        }
      ]
    },
    {
      "cell_type": "code",
      "source": [
        "graph.convert_directed_to_undirected()\n",
        "graph.print_graph()"
      ],
      "metadata": {
        "colab": {
          "base_uri": "https://localhost:8080/"
        },
        "id": "qAXor9ZYAmhr",
        "outputId": "41b50bf4-cb2a-4675-a37f-34ce62d6755c"
      },
      "execution_count": null,
      "outputs": [
        {
          "output_type": "stream",
          "name": "stdout",
          "text": [
            "Adjacency list of 0 --> 4 --> 1 \n",
            "Adjacency list of 1 --> 0 --> 4 --> 3 --> 2 \n",
            "Adjacency list of 2 --> 1 --> 3 \n",
            "Adjacency list of 3 --> 2 --> 1 --> 4 \n",
            "Adjacency list of 4 --> 3 --> 1 --> 0 \n"
          ]
        }
      ]
    },
    {
      "cell_type": "code",
      "source": [],
      "metadata": {
        "id": "GtRW9rFNXYuy"
      },
      "execution_count": null,
      "outputs": []
    }
  ]
}