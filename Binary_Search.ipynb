{
  "nbformat": 4,
  "nbformat_minor": 0,
  "metadata": {
    "colab": {
      "provenance": [],
      "authorship_tag": "ABX9TyMeBC0ln7WMye5A2hPhNn0T",
      "include_colab_link": true
    },
    "kernelspec": {
      "name": "python3",
      "display_name": "Python 3"
    },
    "language_info": {
      "name": "python"
    }
  },
  "cells": [
    {
      "cell_type": "markdown",
      "metadata": {
        "id": "view-in-github",
        "colab_type": "text"
      },
      "source": [
        "<a href=\"https://colab.research.google.com/github/Nazif-25/DSA/blob/main/Binary_Search.ipynb\" target=\"_parent\"><img src=\"https://colab.research.google.com/assets/colab-badge.svg\" alt=\"Open In Colab\"/></a>"
      ]
    },
    {
      "cell_type": "code",
      "execution_count": 1,
      "metadata": {
        "id": "qrHp3m6ZdLKI"
      },
      "outputs": [],
      "source": [
        "array = [1, 2, 2, 3, 4, 5]"
      ]
    },
    {
      "cell_type": "markdown",
      "source": [
        "#Regular Binary search"
      ],
      "metadata": {
        "id": "ozrPCHRWd-bZ"
      }
    },
    {
      "cell_type": "code",
      "source": [
        "def search(array, left, right, item):\n",
        "    while left<=right:\n",
        "        mid = (left+right)//2\n",
        "        if array[mid]==item:\n",
        "            return True\n",
        "        else:\n",
        "            if array[mid]>item:\n",
        "                right = mid-1\n",
        "            else:\n",
        "                left = mid+1\n",
        "    return False\n",
        "print(search(array, 0, len(array)-1, 5))\n",
        "print(search(array, 0, len(array)-1, 3))"
      ],
      "metadata": {
        "colab": {
          "base_uri": "https://localhost:8080/"
        },
        "id": "621M3w30d739",
        "outputId": "a50ae172-a751-4585-dadf-b74cf234a890"
      },
      "execution_count": 15,
      "outputs": [
        {
          "output_type": "stream",
          "name": "stdout",
          "text": [
            "True\n",
            "True\n"
          ]
        }
      ]
    },
    {
      "cell_type": "code",
      "source": [
        "def search(array, left, right, item):\n",
        "    while left<=right:\n",
        "        mid = (left+right)//2\n",
        "        if array[mid]==item:\n",
        "            return True\n",
        "        elif array[mid]>item:\n",
        "            right = mid-1\n",
        "        else:\n",
        "            left = mid+1\n",
        "    return False\n",
        "print(search(array, 0, len(array)-1, 5))\n",
        "print(search(array, 0, len(array)-1, 3))"
      ],
      "metadata": {
        "colab": {
          "base_uri": "https://localhost:8080/"
        },
        "id": "i2GgSuTTe_XG",
        "outputId": "1c8391c5-ecde-464f-e9ca-3c261f2aa22b"
      },
      "execution_count": 16,
      "outputs": [
        {
          "output_type": "stream",
          "name": "stdout",
          "text": [
            "True\n",
            "True\n"
          ]
        }
      ]
    },
    {
      "cell_type": "code",
      "source": [
        "def search(array, left, right, item):\n",
        "    if left<=right:\n",
        "        mid = (left+right)//2\n",
        "        if array[mid]==item:\n",
        "            return True\n",
        "        elif array[mid]>item:\n",
        "            return search(array, left, mid-1, item)\n",
        "        else:\n",
        "            return search(array, mid+1, right, item)\n",
        "    return False\n",
        "print(search(array, 0, len(array)-1, 5))\n",
        "print(search(array, 0, len(array)-1, 3))"
      ],
      "metadata": {
        "colab": {
          "base_uri": "https://localhost:8080/"
        },
        "id": "X7Vbx2TolSdH",
        "outputId": "04349714-f390-465d-8d38-386600ab6a55"
      },
      "execution_count": 6,
      "outputs": [
        {
          "output_type": "stream",
          "name": "stdout",
          "text": [
            "True\n",
            "True\n"
          ]
        }
      ]
    },
    {
      "cell_type": "markdown",
      "source": [
        "#Using binary search to find first occurrence of an item"
      ],
      "metadata": {
        "id": "rRFyUp6qmmHT"
      }
    },
    {
      "cell_type": "code",
      "source": [
        "arr = [1,3, 3,3 ,5,5, 6, 7]"
      ],
      "metadata": {
        "id": "-s9rmurKmuPZ"
      },
      "execution_count": 9,
      "outputs": []
    },
    {
      "cell_type": "code",
      "source": [
        "def find_first_occurrence(array, left, right, item):\n",
        "    count = -1\n",
        "    while left<=right:\n",
        "        mid = (left+right)//2\n",
        "        if array[mid]==item:\n",
        "            count = mid\n",
        "            right = mid-1\n",
        "        elif array[mid]>item:\n",
        "            right = mid-1\n",
        "        else:\n",
        "            left = mid+1\n",
        "    return count\n"
      ],
      "metadata": {
        "id": "oEgJQwiymz4Y"
      },
      "execution_count": 13,
      "outputs": []
    },
    {
      "cell_type": "code",
      "source": [
        "print(find_first_occurrence(arr, 0, len(arr)-1, 3))\n",
        "print(find_first_occurrence(arr, 0, len(arr)-1, 5))"
      ],
      "metadata": {
        "colab": {
          "base_uri": "https://localhost:8080/"
        },
        "id": "3jQjQtqPtQzY",
        "outputId": "024a6f95-d81a-4458-a25c-fa4b8d3ff7e2"
      },
      "execution_count": 14,
      "outputs": [
        {
          "output_type": "stream",
          "name": "stdout",
          "text": [
            "1\n",
            "4\n"
          ]
        }
      ]
    },
    {
      "cell_type": "markdown",
      "source": [
        "#Using binary search to find the last occurrence of an item"
      ],
      "metadata": {
        "id": "g302lMeRuYJQ"
      }
    },
    {
      "cell_type": "code",
      "source": [
        "arr = [1,3, 3,3 ,5,5,5, 6, 7]"
      ],
      "metadata": {
        "id": "pH3t3e7XueG_"
      },
      "execution_count": 18,
      "outputs": []
    },
    {
      "cell_type": "code",
      "source": [
        "def find_last_occurrence(array, left, right, item):\n",
        "    count = -1\n",
        "    while left<=right:\n",
        "        mid = (left+right)//2\n",
        "        if array[mid]==item:\n",
        "            count = mid\n",
        "            left = mid+1\n",
        "        elif array[mid]>item:\n",
        "            right = mid-1\n",
        "        else:\n",
        "            left = mid+1\n",
        "    return count\n"
      ],
      "metadata": {
        "id": "LanPvv8wug3F"
      },
      "execution_count": 16,
      "outputs": []
    },
    {
      "cell_type": "code",
      "source": [
        "print(find_last_occurrence(arr, 0, len(arr)-1, 3))\n",
        "print(find_last_occurrence(arr, 0, len(arr)-1, 5))"
      ],
      "metadata": {
        "colab": {
          "base_uri": "https://localhost:8080/"
        },
        "id": "hSkToGyguqjh",
        "outputId": "e7a939f9-8c8f-4446-c42e-67547b03740e"
      },
      "execution_count": 19,
      "outputs": [
        {
          "output_type": "stream",
          "name": "stdout",
          "text": [
            "3\n",
            "6\n"
          ]
        }
      ]
    },
    {
      "cell_type": "code",
      "source": [
        "print(find_first_occurrence(arr, 0, len(arr)-1, 3))"
      ],
      "metadata": {
        "colab": {
          "base_uri": "https://localhost:8080/"
        },
        "id": "xnkvDOddu51v",
        "outputId": "a4b8fc62-fc27-4025-e45c-b1b4aa90ffaa"
      },
      "execution_count": 20,
      "outputs": [
        {
          "output_type": "stream",
          "name": "stdout",
          "text": [
            "1\n"
          ]
        }
      ]
    },
    {
      "cell_type": "code",
      "source": [],
      "metadata": {
        "id": "NEs8UgLju-Hg"
      },
      "execution_count": null,
      "outputs": []
    }
  ]
}