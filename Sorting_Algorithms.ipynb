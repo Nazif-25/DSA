{
  "nbformat": 4,
  "nbformat_minor": 0,
  "metadata": {
    "colab": {
      "provenance": [],
      "authorship_tag": "ABX9TyOEVdyMXm4neQVMx8W/oY3M",
      "include_colab_link": true
    },
    "kernelspec": {
      "name": "python3",
      "display_name": "Python 3"
    },
    "language_info": {
      "name": "python"
    }
  },
  "cells": [
    {
      "cell_type": "markdown",
      "metadata": {
        "id": "view-in-github",
        "colab_type": "text"
      },
      "source": [
        "<a href=\"https://colab.research.google.com/github/Nazif-25/DSA/blob/main/Sorting_Algorithms.ipynb\" target=\"_parent\"><img src=\"https://colab.research.google.com/assets/colab-badge.svg\" alt=\"Open In Colab\"/></a>"
      ]
    },
    {
      "cell_type": "markdown",
      "source": [
        "#Selection Sort"
      ],
      "metadata": {
        "id": "abaeCiJq2jZi"
      }
    },
    {
      "cell_type": "code",
      "source": [
        "arr = [1, -2, 4, 65, 9, -1]"
      ],
      "metadata": {
        "id": "7EcB5TUN2lUT"
      },
      "execution_count": null,
      "outputs": []
    },
    {
      "cell_type": "code",
      "source": [
        "def selection_sort(arr):\n",
        "    for i in range(len(arr)-1):\n",
        "        min_index = i\n",
        "        for j in range(i+1, len(arr)):\n",
        "            if arr[min_index]>arr[j]:\n",
        "                min_index = j\n",
        "        if min_index != i:\n",
        "            arr[min_index], arr[i] = arr[i], arr[min_index]\n",
        "    return arr\n",
        "\n",
        "print(selection_sort(arr))"
      ],
      "metadata": {
        "colab": {
          "base_uri": "https://localhost:8080/"
        },
        "id": "Xd8QFWt12veO",
        "outputId": "f331fe8f-0294-43d1-a40c-0f805f552494"
      },
      "execution_count": null,
      "outputs": [
        {
          "output_type": "stream",
          "name": "stdout",
          "text": [
            "[-2, -1, 1, 4, 9, 65]\n"
          ]
        }
      ]
    },
    {
      "cell_type": "code",
      "source": [
        "def selection_sort(arr):\n",
        "    for i in range(len(arr)-1):\n",
        "        min_index = i\n",
        "        for j in range(i+1, len(arr)):\n",
        "            if arr[min_index]>arr[j]:\n",
        "                min_index = j\n",
        "        if min_index != i:\n",
        "            temp = arr[i]\n",
        "            arr[i] = arr[min_index]\n",
        "            arr[min_index] = temp\n",
        "    return arr\n",
        "\n",
        "print(selection_sort(arr))"
      ],
      "metadata": {
        "colab": {
          "base_uri": "https://localhost:8080/"
        },
        "id": "jerxMaBj3Z-P",
        "outputId": "2f8553dd-59b7-474f-c03d-587b3b6422d5"
      },
      "execution_count": null,
      "outputs": [
        {
          "output_type": "stream",
          "name": "stdout",
          "text": [
            "[-2, -1, 1, 4, 9, 65]\n"
          ]
        }
      ]
    },
    {
      "cell_type": "markdown",
      "source": [
        "#Insertion Sort"
      ],
      "metadata": {
        "id": "K5MJm6KTn5zg"
      }
    },
    {
      "cell_type": "code",
      "source": [
        "A = [10, 5, 2, 15, 8, 16]\n",
        "def insertion_sort(A):\n",
        "    for i in range(1, len(A)):\n",
        "        key = A[i]\n",
        "        j = i - 1\n",
        "        while j>=0 and A[j]>key:\n",
        "            A[j+1] = A[j]\n",
        "            j -= 1\n",
        "        A[j+1] = key\n",
        "    return A\n",
        "print(insertion_sort(A))"
      ],
      "metadata": {
        "colab": {
          "base_uri": "https://localhost:8080/"
        },
        "id": "jiBgfXzan766",
        "outputId": "ac37f46d-8d39-4b8d-8781-e9c7aebfa307"
      },
      "execution_count": null,
      "outputs": [
        {
          "output_type": "stream",
          "name": "stdout",
          "text": [
            "[2, 5, 8, 10, 15, 16]\n"
          ]
        }
      ]
    },
    {
      "cell_type": "markdown",
      "source": [
        "#Bubble Sort\n",
        "(Worst case: unsorted array)\n",
        "Time complexity: O(n**2)"
      ],
      "metadata": {
        "id": "kDWglL7TAMO5"
      }
    },
    {
      "cell_type": "code",
      "source": [
        "arr = [1, -2, 4, 65, 9, -1]"
      ],
      "metadata": {
        "id": "IBtEuHOeAM3b"
      },
      "execution_count": null,
      "outputs": []
    },
    {
      "cell_type": "code",
      "source": [
        "def bubble_sort(arr):\n",
        "    for i in range(len(arr)):\n",
        "        for j in range(0, len(arr)-i-1):\n",
        "            if arr[j]>arr[j+1]:\n",
        "                arr[j], arr[j+1] = arr[j+1], arr[j]\n",
        "    return arr\n",
        "\n",
        "print(bubble_sort(arr))"
      ],
      "metadata": {
        "colab": {
          "base_uri": "https://localhost:8080/"
        },
        "id": "wOiLKmBJAS0W",
        "outputId": "aad65843-a3fa-420b-b555-4b22aa1469e3"
      },
      "execution_count": null,
      "outputs": [
        {
          "output_type": "stream",
          "name": "stdout",
          "text": [
            "[-2, -1, 1, 4, 9, 65]\n"
          ]
        }
      ]
    },
    {
      "cell_type": "markdown",
      "source": [
        "optimised bubble sort with time complexity of O(n)\n",
        "(Best case: sorted array)"
      ],
      "metadata": {
        "id": "fMZO87vOFM8d"
      }
    },
    {
      "cell_type": "code",
      "source": [
        "def bubble_sort(arr):\n",
        "    for i in range(len(arr)):\n",
        "        did_swap = 0\n",
        "        for j in range(0, len(arr)-i-1):\n",
        "            if arr[j]>arr[j+1]:\n",
        "                arr[j], arr[j+1] = arr[j+1], arr[j]\n",
        "                did_swap = 1\n",
        "# After the first pass, since no swaps occurred, the algorithm breaks early and stops further passes.\n",
        "        if did_swap == 0:\n",
        "            break\n",
        "    return arr\n",
        "\n",
        "print(bubble_sort(arr))"
      ],
      "metadata": {
        "colab": {
          "base_uri": "https://localhost:8080/"
        },
        "id": "cNAcjqHHA_AT",
        "outputId": "eda6368c-cb33-4806-ad84-5f8efb7ebb0b"
      },
      "execution_count": null,
      "outputs": [
        {
          "output_type": "stream",
          "name": "stdout",
          "text": [
            "[-2, -1, 1, 4, 9, 65]\n"
          ]
        }
      ]
    },
    {
      "cell_type": "markdown",
      "source": [
        "# Merge Sort"
      ],
      "metadata": {
        "id": "9yx8Jov6ZkZU"
      }
    },
    {
      "cell_type": "code",
      "source": [
        "#Merge sort using recursion\n",
        "arr = [1, -2, 4, 65, 9, -1]\n",
        "def merge_sort(arr, low, high):\n",
        "    if low>=high:\n",
        "        return arr\n",
        "    mid = (low+high)//2\n",
        "    merge_sort(arr, low, mid)\n",
        "    merge_sort(arr, mid+1, high)\n",
        "    merge(arr, low, mid, high)\n",
        "\n",
        "    return arr\n",
        "\n",
        "def merge(arr, low, mid, high):\n",
        "    left = low\n",
        "    right = mid+1\n",
        "    temp = []\n",
        "    while left<=mid and right<=high:\n",
        "        if arr[left]<=arr[right]:\n",
        "            temp.append(arr[left])\n",
        "            left+=1\n",
        "        else:\n",
        "            temp.append(arr[right])\n",
        "            right+=1\n",
        "    while left<=mid:\n",
        "        temp.append(arr[left])\n",
        "        left+=1\n",
        "    while right<=high:\n",
        "        temp.append(arr[right])\n",
        "        right+=1\n",
        "\n",
        "    for i in range(low, high+1):\n",
        "        arr[i] = temp[i-low]\n",
        "\n",
        "print(merge_sort(arr, 0, len(arr)-1))"
      ],
      "metadata": {
        "colab": {
          "base_uri": "https://localhost:8080/"
        },
        "id": "obaSOJ22ZnL1",
        "outputId": "5cc66773-2a43-48fc-b4dc-47e07fec5e89"
      },
      "execution_count": null,
      "outputs": [
        {
          "output_type": "stream",
          "name": "stdout",
          "text": [
            "[-2, -1, 1, 4, 9, 65]\n"
          ]
        }
      ]
    },
    {
      "cell_type": "markdown",
      "source": [
        "#Quick Sort"
      ],
      "metadata": {
        "id": "0VJGTU1PRD6Z"
      }
    },
    {
      "cell_type": "code",
      "source": [
        "arr = [1, -2, 4, 65, 9, -1]\n",
        "def quick_sort(arr, low, high):\n",
        "    if low<high:\n",
        "        idx = partition(arr, low, high)\n",
        "        quick_sort(arr, low, idx-1)\n",
        "        quick_sort(arr, idx+1, high)\n",
        "    return arr\n",
        "\n",
        "def partition(arr, low, high):\n",
        "    pivot = arr[high]\n",
        "    i = low-1\n",
        "    for j in range(low, high):\n",
        "        if arr[j]<= pivot:\n",
        "            i+=1\n",
        "\n",
        "            arr[i], arr[j] = arr[j], arr[i]\n",
        "\n",
        "    arr[i+1], arr[high] = arr[high], arr[i+1]\n",
        "    return i+1\n",
        "print(quick_sort(arr, 0, len(arr)-1))\n"
      ],
      "metadata": {
        "id": "-LEznX2pcUXJ",
        "colab": {
          "base_uri": "https://localhost:8080/"
        },
        "outputId": "c69abc70-6957-4330-85ba-b02bddac74e1"
      },
      "execution_count": null,
      "outputs": [
        {
          "output_type": "stream",
          "name": "stdout",
          "text": [
            "[-2, -1, 1, 4, 9, 65]\n"
          ]
        }
      ]
    },
    {
      "cell_type": "markdown",
      "source": [
        "#Modified Count Sort"
      ],
      "metadata": {
        "id": "Dtmly6D7Wt41"
      }
    },
    {
      "cell_type": "code",
      "source": [
        "arr = [1,2,-4,-19,20,5,-30]\n",
        "\n",
        "def count_sort(arr):\n",
        "    min_val = min(arr)\n",
        "    max_val = max(arr)\n",
        "    arr_range = max_val-min_val+1\n",
        "    count = [0]*arr_range\n",
        "    # output arr length = input arr length\n",
        "    output = [0]*len(arr)\n",
        "\n",
        "    for num in arr:\n",
        "        count[num-min_val] += 1\n",
        "\n",
        "    for i in range(1, len(count)):\n",
        "        count[i] += count[i-1]\n",
        "\n",
        "    for num in reversed(arr):\n",
        "        count[num-min_val] -= 1\n",
        "        output[count[num-min_val]]= num\n",
        "\n",
        "    return output\n",
        "print(count_sort(arr))\n",
        "\n"
      ],
      "metadata": {
        "colab": {
          "base_uri": "https://localhost:8080/"
        },
        "id": "hy5rFJfxSJwv",
        "outputId": "ac2523ec-f523-4e57-cba1-031c8914d3f3"
      },
      "execution_count": null,
      "outputs": [
        {
          "output_type": "stream",
          "name": "stdout",
          "text": [
            "[-30, -19, -4, 1, 2, 5, 20]\n"
          ]
        }
      ]
    },
    {
      "cell_type": "code",
      "source": [],
      "metadata": {
        "id": "d92XJ4WwX1VK"
      },
      "execution_count": null,
      "outputs": []
    }
  ]
}