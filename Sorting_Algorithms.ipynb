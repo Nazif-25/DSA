{
  "nbformat": 4,
  "nbformat_minor": 0,
  "metadata": {
    "colab": {
      "provenance": [],
      "authorship_tag": "ABX9TyP6psIo0vYHPILMueRJVrCb",
      "include_colab_link": true
    },
    "kernelspec": {
      "name": "python3",
      "display_name": "Python 3"
    },
    "language_info": {
      "name": "python"
    }
  },
  "cells": [
    {
      "cell_type": "markdown",
      "metadata": {
        "id": "view-in-github",
        "colab_type": "text"
      },
      "source": [
        "<a href=\"https://colab.research.google.com/github/Nazif-25/DSA/blob/main/Sorting_Algorithms.ipynb\" target=\"_parent\"><img src=\"https://colab.research.google.com/assets/colab-badge.svg\" alt=\"Open In Colab\"/></a>"
      ]
    },
    {
      "cell_type": "markdown",
      "source": [
        "#Selection Sort"
      ],
      "metadata": {
        "id": "abaeCiJq2jZi"
      }
    },
    {
      "cell_type": "code",
      "source": [
        "arr = [1, -2, 4, 65, 9, -1]"
      ],
      "metadata": {
        "id": "7EcB5TUN2lUT"
      },
      "execution_count": 7,
      "outputs": []
    },
    {
      "cell_type": "code",
      "source": [
        "def selection_sort(arr):\n",
        "    for i in range(len(arr)-1):\n",
        "        min_index = i\n",
        "        for j in range(i+1, len(arr)):\n",
        "            if arr[min_index]>arr[j]:\n",
        "                min_index = j\n",
        "        arr[min_index], arr[i] = arr[i], arr[min_index]\n",
        "    return arr\n",
        "\n",
        "print(selection_sort(arr))"
      ],
      "metadata": {
        "colab": {
          "base_uri": "https://localhost:8080/"
        },
        "id": "Xd8QFWt12veO",
        "outputId": "f5cfc803-938c-4955-fccc-b4b48a56677a"
      },
      "execution_count": 6,
      "outputs": [
        {
          "output_type": "stream",
          "name": "stdout",
          "text": [
            "[-2, -1, 1, 4, 9, 65]\n"
          ]
        }
      ]
    },
    {
      "cell_type": "code",
      "source": [
        "def selection_sort(arr):\n",
        "    for i in range(len(arr)-1):\n",
        "        min_index = i\n",
        "        for j in range(i+1, len(arr)):\n",
        "            if arr[min_index]>arr[j]:\n",
        "                min_index = j\n",
        "        temp = arr[i]\n",
        "        arr[i] = arr[min_index]\n",
        "        arr[min_index] = temp\n",
        "    return arr\n",
        "\n",
        "print(selection_sort(arr))"
      ],
      "metadata": {
        "colab": {
          "base_uri": "https://localhost:8080/"
        },
        "id": "jerxMaBj3Z-P",
        "outputId": "d71f3e9c-5c2b-45cd-b91a-1e50fbbd477e"
      },
      "execution_count": 8,
      "outputs": [
        {
          "output_type": "stream",
          "name": "stdout",
          "text": [
            "[-2, -1, 1, 4, 9, 65]\n"
          ]
        }
      ]
    },
    {
      "cell_type": "markdown",
      "source": [
        "#Bubble Sort"
      ],
      "metadata": {
        "id": "kDWglL7TAMO5"
      }
    },
    {
      "cell_type": "code",
      "source": [
        "arr = [1, -2, 4, 65, 9, -1]"
      ],
      "metadata": {
        "id": "IBtEuHOeAM3b"
      },
      "execution_count": 23,
      "outputs": []
    },
    {
      "cell_type": "code",
      "source": [
        "def bubble_sort(arr):\n",
        "    for i in range(len(arr)):\n",
        "        for j in range(0, len(arr)-i-1):\n",
        "            if arr[j]>arr[j+1]:\n",
        "                arr[j], arr[j+1] = arr[j+1], arr[j]\n",
        "    return arr\n",
        "\n",
        "print(bubble_sort(arr))"
      ],
      "metadata": {
        "colab": {
          "base_uri": "https://localhost:8080/"
        },
        "id": "wOiLKmBJAS0W",
        "outputId": "aad65843-a3fa-420b-b555-4b22aa1469e3"
      },
      "execution_count": 22,
      "outputs": [
        {
          "output_type": "stream",
          "name": "stdout",
          "text": [
            "[-2, -1, 1, 4, 9, 65]\n"
          ]
        }
      ]
    },
    {
      "cell_type": "markdown",
      "source": [
        "optimised bubble sort"
      ],
      "metadata": {
        "id": "fMZO87vOFM8d"
      }
    },
    {
      "cell_type": "code",
      "source": [
        "def bubble_sort(arr):\n",
        "    for i in range(len(arr)):\n",
        "        did_swap = 0\n",
        "        for j in range(0, len(arr)-i-1):\n",
        "            if arr[j]>arr[j+1]:\n",
        "                arr[j], arr[j+1] = arr[j+1], arr[j]\n",
        "                did_swap = 1\n",
        "\n",
        "        if did_swap == 0:\n",
        "            break\n",
        "    return arr\n",
        "\n",
        "print(bubble_sort(arr))"
      ],
      "metadata": {
        "colab": {
          "base_uri": "https://localhost:8080/"
        },
        "id": "cNAcjqHHA_AT",
        "outputId": "eda6368c-cb33-4806-ad84-5f8efb7ebb0b"
      },
      "execution_count": 24,
      "outputs": [
        {
          "output_type": "stream",
          "name": "stdout",
          "text": [
            "[-2, -1, 1, 4, 9, 65]\n"
          ]
        }
      ]
    }
  ]
}